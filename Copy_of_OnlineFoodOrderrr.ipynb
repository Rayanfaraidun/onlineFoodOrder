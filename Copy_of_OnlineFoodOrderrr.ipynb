{
  "cells": [
    {
      "cell_type": "markdown",
      "metadata": {
        "id": "view-in-github",
        "colab_type": "text"
      },
      "source": [
        "<a href=\"https://colab.research.google.com/github/Rayanfaraidun/onlineFoodOrder/blob/main/Copy_of_OnlineFoodOrderrr.ipynb\" target=\"_parent\"><img src=\"https://colab.research.google.com/assets/colab-badge.svg\" alt=\"Open In Colab\"/></a>"
      ]
    },
    {
      "cell_type": "markdown",
      "id": "d5df59fa",
      "metadata": {
        "id": "d5df59fa"
      },
      "source": [
        "# Online Food Order\n",
        "Online Food Ordering has become increasingly popular, revolutionizing the way people dine. This statistical project aims to analyze the trends and patterns of online food ordering behavior, focusing on various demographic and socioeconomic factors\n",
        "\n",
        "### The Variables:\n",
        "  - Age;\n",
        "  - gender;\n",
        "  - Marital Sates;\n",
        "  - Occupation;\n",
        "  - Monthly Income;\n",
        "  - Family Size;\n",
        "  - Feedback;"
      ]
    },
    {
      "cell_type": "code",
      "execution_count": null,
      "id": "8202c0d3",
      "metadata": {
        "id": "8202c0d3"
      },
      "outputs": [],
      "source": [
        "import pandas as pd                                                     #to read the csv file\n",
        "import numpy as np"
      ]
    },
    {
      "cell_type": "code",
      "execution_count": null,
      "id": "3b2f64d0",
      "metadata": {
        "id": "3b2f64d0"
      },
      "outputs": [],
      "source": [
        "data=pd.read_csv(\"OOnlinefFoods.csv\")"
      ]
    },
    {
      "cell_type": "code",
      "execution_count": null,
      "id": "2ab448e8",
      "metadata": {
        "id": "2ab448e8",
        "outputId": "36774dff-b5a5-4801-840c-74ecfb295efa"
      },
      "outputs": [
        {
          "data": {
            "text/html": [
              "<div>\n",
              "<style scoped>\n",
              "    .dataframe tbody tr th:only-of-type {\n",
              "        vertical-align: middle;\n",
              "    }\n",
              "\n",
              "    .dataframe tbody tr th {\n",
              "        vertical-align: top;\n",
              "    }\n",
              "\n",
              "    .dataframe thead th {\n",
              "        text-align: right;\n",
              "    }\n",
              "</style>\n",
              "<table border=\"1\" class=\"dataframe\">\n",
              "  <thead>\n",
              "    <tr style=\"text-align: right;\">\n",
              "      <th></th>\n",
              "      <th>Age</th>\n",
              "      <th>Gender</th>\n",
              "      <th>Marital Status</th>\n",
              "      <th>Occupation</th>\n",
              "      <th>Monthly Income</th>\n",
              "      <th>Family size</th>\n",
              "      <th>Feedback</th>\n",
              "    </tr>\n",
              "  </thead>\n",
              "  <tbody>\n",
              "    <tr>\n",
              "      <th>0</th>\n",
              "      <td>20</td>\n",
              "      <td>Female</td>\n",
              "      <td>Single</td>\n",
              "      <td>Student</td>\n",
              "      <td>No Income</td>\n",
              "      <td>4</td>\n",
              "      <td>Positive</td>\n",
              "    </tr>\n",
              "    <tr>\n",
              "      <th>1</th>\n",
              "      <td>24</td>\n",
              "      <td>Female</td>\n",
              "      <td>Single</td>\n",
              "      <td>Student</td>\n",
              "      <td>Below Rs.10000</td>\n",
              "      <td>3</td>\n",
              "      <td>Positive</td>\n",
              "    </tr>\n",
              "    <tr>\n",
              "      <th>2</th>\n",
              "      <td>22</td>\n",
              "      <td>Male</td>\n",
              "      <td>Single</td>\n",
              "      <td>Student</td>\n",
              "      <td>Below Rs.10000</td>\n",
              "      <td>3</td>\n",
              "      <td>Negative</td>\n",
              "    </tr>\n",
              "    <tr>\n",
              "      <th>3</th>\n",
              "      <td>22</td>\n",
              "      <td>Female</td>\n",
              "      <td>Single</td>\n",
              "      <td>Student</td>\n",
              "      <td>No Income</td>\n",
              "      <td>6</td>\n",
              "      <td>Positive</td>\n",
              "    </tr>\n",
              "    <tr>\n",
              "      <th>4</th>\n",
              "      <td>22</td>\n",
              "      <td>Male</td>\n",
              "      <td>Single</td>\n",
              "      <td>Student</td>\n",
              "      <td>Below Rs.10000</td>\n",
              "      <td>4</td>\n",
              "      <td>Positive</td>\n",
              "    </tr>\n",
              "    <tr>\n",
              "      <th>...</th>\n",
              "      <td>...</td>\n",
              "      <td>...</td>\n",
              "      <td>...</td>\n",
              "      <td>...</td>\n",
              "      <td>...</td>\n",
              "      <td>...</td>\n",
              "      <td>...</td>\n",
              "    </tr>\n",
              "    <tr>\n",
              "      <th>495</th>\n",
              "      <td>27</td>\n",
              "      <td>Female</td>\n",
              "      <td>Married</td>\n",
              "      <td>Employee</td>\n",
              "      <td>Below Rs.5000</td>\n",
              "      <td>3</td>\n",
              "      <td>Negative</td>\n",
              "    </tr>\n",
              "    <tr>\n",
              "      <th>496</th>\n",
              "      <td>22</td>\n",
              "      <td>Female</td>\n",
              "      <td>Single</td>\n",
              "      <td>Self Employeed</td>\n",
              "      <td>More than 100000</td>\n",
              "      <td>2</td>\n",
              "      <td>Negative</td>\n",
              "    </tr>\n",
              "    <tr>\n",
              "      <th>497</th>\n",
              "      <td>23</td>\n",
              "      <td>Male</td>\n",
              "      <td>Married</td>\n",
              "      <td>Employee</td>\n",
              "      <td>More than 50000</td>\n",
              "      <td>1</td>\n",
              "      <td>Positive</td>\n",
              "    </tr>\n",
              "    <tr>\n",
              "      <th>498</th>\n",
              "      <td>21</td>\n",
              "      <td>Male</td>\n",
              "      <td>Single</td>\n",
              "      <td>Student</td>\n",
              "      <td>No Income</td>\n",
              "      <td>2</td>\n",
              "      <td>Positive</td>\n",
              "    </tr>\n",
              "    <tr>\n",
              "      <th>499</th>\n",
              "      <td>25</td>\n",
              "      <td>Female</td>\n",
              "      <td>Married</td>\n",
              "      <td>Self Employeed</td>\n",
              "      <td>25001 to 50000</td>\n",
              "      <td>4</td>\n",
              "      <td>Positive</td>\n",
              "    </tr>\n",
              "  </tbody>\n",
              "</table>\n",
              "<p>500 rows × 7 columns</p>\n",
              "</div>"
            ],
            "text/plain": [
              "     Age  Gender Marital Status      Occupation    Monthly Income  \\\n",
              "0     20  Female         Single         Student         No Income   \n",
              "1     24  Female         Single         Student    Below Rs.10000   \n",
              "2     22    Male         Single         Student    Below Rs.10000   \n",
              "3     22  Female         Single         Student         No Income   \n",
              "4     22    Male         Single         Student    Below Rs.10000   \n",
              "..   ...     ...            ...             ...               ...   \n",
              "495   27  Female        Married        Employee     Below Rs.5000   \n",
              "496   22  Female         Single  Self Employeed  More than 100000   \n",
              "497   23    Male        Married        Employee   More than 50000   \n",
              "498   21    Male         Single         Student         No Income   \n",
              "499   25  Female        Married  Self Employeed    25001 to 50000   \n",
              "\n",
              "     Family size   Feedback  \n",
              "0              4   Positive  \n",
              "1              3   Positive  \n",
              "2              3  Negative   \n",
              "3              6   Positive  \n",
              "4              4   Positive  \n",
              "..           ...        ...  \n",
              "495            3  Negative   \n",
              "496            2  Negative   \n",
              "497            1   Positive  \n",
              "498            2   Positive  \n",
              "499            4   Positive  \n",
              "\n",
              "[500 rows x 7 columns]"
            ]
          },
          "execution_count": 3,
          "metadata": {},
          "output_type": "execute_result"
        }
      ],
      "source": [
        "data"
      ]
    },
    {
      "cell_type": "code",
      "execution_count": null,
      "id": "0314bd77",
      "metadata": {
        "id": "0314bd77",
        "outputId": "ca44fff0-c4ae-4013-8add-7754e67e4ba5"
      },
      "outputs": [
        {
          "data": {
            "text/html": [
              "<div>\n",
              "<style scoped>\n",
              "    .dataframe tbody tr th:only-of-type {\n",
              "        vertical-align: middle;\n",
              "    }\n",
              "\n",
              "    .dataframe tbody tr th {\n",
              "        vertical-align: top;\n",
              "    }\n",
              "\n",
              "    .dataframe thead th {\n",
              "        text-align: right;\n",
              "    }\n",
              "</style>\n",
              "<table border=\"1\" class=\"dataframe\">\n",
              "  <thead>\n",
              "    <tr style=\"text-align: right;\">\n",
              "      <th></th>\n",
              "      <th>Age</th>\n",
              "      <th>Gender</th>\n",
              "      <th>Marital Status</th>\n",
              "      <th>Occupation</th>\n",
              "      <th>Monthly Income</th>\n",
              "      <th>Family size</th>\n",
              "      <th>Feedback</th>\n",
              "    </tr>\n",
              "  </thead>\n",
              "  <tbody>\n",
              "    <tr>\n",
              "      <th>0</th>\n",
              "      <td>20</td>\n",
              "      <td>Female</td>\n",
              "      <td>Single</td>\n",
              "      <td>Student</td>\n",
              "      <td>No Income</td>\n",
              "      <td>4</td>\n",
              "      <td>Positive</td>\n",
              "    </tr>\n",
              "    <tr>\n",
              "      <th>1</th>\n",
              "      <td>24</td>\n",
              "      <td>Female</td>\n",
              "      <td>Single</td>\n",
              "      <td>Student</td>\n",
              "      <td>Below Rs.10000</td>\n",
              "      <td>3</td>\n",
              "      <td>Positive</td>\n",
              "    </tr>\n",
              "    <tr>\n",
              "      <th>2</th>\n",
              "      <td>22</td>\n",
              "      <td>Male</td>\n",
              "      <td>Single</td>\n",
              "      <td>Student</td>\n",
              "      <td>Below Rs.10000</td>\n",
              "      <td>3</td>\n",
              "      <td>Negative</td>\n",
              "    </tr>\n",
              "    <tr>\n",
              "      <th>3</th>\n",
              "      <td>22</td>\n",
              "      <td>Female</td>\n",
              "      <td>Single</td>\n",
              "      <td>Student</td>\n",
              "      <td>No Income</td>\n",
              "      <td>6</td>\n",
              "      <td>Positive</td>\n",
              "    </tr>\n",
              "    <tr>\n",
              "      <th>4</th>\n",
              "      <td>22</td>\n",
              "      <td>Male</td>\n",
              "      <td>Single</td>\n",
              "      <td>Student</td>\n",
              "      <td>Below Rs.10000</td>\n",
              "      <td>4</td>\n",
              "      <td>Positive</td>\n",
              "    </tr>\n",
              "    <tr>\n",
              "      <th>5</th>\n",
              "      <td>27</td>\n",
              "      <td>Female</td>\n",
              "      <td>Married</td>\n",
              "      <td>Employee</td>\n",
              "      <td>More than 50000</td>\n",
              "      <td>2</td>\n",
              "      <td>Positive</td>\n",
              "    </tr>\n",
              "    <tr>\n",
              "      <th>6</th>\n",
              "      <td>22</td>\n",
              "      <td>Male</td>\n",
              "      <td>Single</td>\n",
              "      <td>Student</td>\n",
              "      <td>No Income</td>\n",
              "      <td>3</td>\n",
              "      <td>Positive</td>\n",
              "    </tr>\n",
              "  </tbody>\n",
              "</table>\n",
              "</div>"
            ],
            "text/plain": [
              "   Age  Gender Marital Status Occupation   Monthly Income  Family size  \\\n",
              "0   20  Female         Single    Student        No Income            4   \n",
              "1   24  Female         Single    Student   Below Rs.10000            3   \n",
              "2   22    Male         Single    Student   Below Rs.10000            3   \n",
              "3   22  Female         Single    Student        No Income            6   \n",
              "4   22    Male         Single    Student   Below Rs.10000            4   \n",
              "5   27  Female        Married   Employee  More than 50000            2   \n",
              "6   22    Male         Single    Student        No Income            3   \n",
              "\n",
              "    Feedback  \n",
              "0   Positive  \n",
              "1   Positive  \n",
              "2  Negative   \n",
              "3   Positive  \n",
              "4   Positive  \n",
              "5   Positive  \n",
              "6   Positive  "
            ]
          },
          "execution_count": 4,
          "metadata": {},
          "output_type": "execute_result"
        }
      ],
      "source": [
        "data.head(7)                 #show us the first 7 rows"
      ]
    },
    {
      "cell_type": "code",
      "execution_count": null,
      "id": "c3bb7303",
      "metadata": {
        "id": "c3bb7303",
        "outputId": "8d8cc159-4b79-4e96-9f11-1b44d3173fd4"
      },
      "outputs": [
        {
          "data": {
            "text/html": [
              "<div>\n",
              "<style scoped>\n",
              "    .dataframe tbody tr th:only-of-type {\n",
              "        vertical-align: middle;\n",
              "    }\n",
              "\n",
              "    .dataframe tbody tr th {\n",
              "        vertical-align: top;\n",
              "    }\n",
              "\n",
              "    .dataframe thead th {\n",
              "        text-align: right;\n",
              "    }\n",
              "</style>\n",
              "<table border=\"1\" class=\"dataframe\">\n",
              "  <thead>\n",
              "    <tr style=\"text-align: right;\">\n",
              "      <th></th>\n",
              "      <th>Age</th>\n",
              "      <th>Gender</th>\n",
              "      <th>Marital Status</th>\n",
              "      <th>Occupation</th>\n",
              "      <th>Monthly Income</th>\n",
              "      <th>Family size</th>\n",
              "      <th>Feedback</th>\n",
              "    </tr>\n",
              "  </thead>\n",
              "  <tbody>\n",
              "    <tr>\n",
              "      <th>491</th>\n",
              "      <td>19</td>\n",
              "      <td>Male</td>\n",
              "      <td>Single</td>\n",
              "      <td>Student</td>\n",
              "      <td>No Income</td>\n",
              "      <td>4</td>\n",
              "      <td>Positive</td>\n",
              "    </tr>\n",
              "    <tr>\n",
              "      <th>492</th>\n",
              "      <td>19</td>\n",
              "      <td>Female</td>\n",
              "      <td>Single</td>\n",
              "      <td>Student</td>\n",
              "      <td>No Income</td>\n",
              "      <td>2</td>\n",
              "      <td>Positive</td>\n",
              "    </tr>\n",
              "    <tr>\n",
              "      <th>493</th>\n",
              "      <td>18</td>\n",
              "      <td>Male</td>\n",
              "      <td>Single</td>\n",
              "      <td>Student</td>\n",
              "      <td>No Income</td>\n",
              "      <td>3</td>\n",
              "      <td>Positive</td>\n",
              "    </tr>\n",
              "    <tr>\n",
              "      <th>494</th>\n",
              "      <td>20</td>\n",
              "      <td>Male</td>\n",
              "      <td>Single</td>\n",
              "      <td>Student</td>\n",
              "      <td>Below Rs.5000</td>\n",
              "      <td>4</td>\n",
              "      <td>Positive</td>\n",
              "    </tr>\n",
              "    <tr>\n",
              "      <th>495</th>\n",
              "      <td>27</td>\n",
              "      <td>Female</td>\n",
              "      <td>Married</td>\n",
              "      <td>Employee</td>\n",
              "      <td>Below Rs.5000</td>\n",
              "      <td>3</td>\n",
              "      <td>Negative</td>\n",
              "    </tr>\n",
              "    <tr>\n",
              "      <th>496</th>\n",
              "      <td>22</td>\n",
              "      <td>Female</td>\n",
              "      <td>Single</td>\n",
              "      <td>Self Employeed</td>\n",
              "      <td>More than 100000</td>\n",
              "      <td>2</td>\n",
              "      <td>Negative</td>\n",
              "    </tr>\n",
              "    <tr>\n",
              "      <th>497</th>\n",
              "      <td>23</td>\n",
              "      <td>Male</td>\n",
              "      <td>Married</td>\n",
              "      <td>Employee</td>\n",
              "      <td>More than 50000</td>\n",
              "      <td>1</td>\n",
              "      <td>Positive</td>\n",
              "    </tr>\n",
              "    <tr>\n",
              "      <th>498</th>\n",
              "      <td>21</td>\n",
              "      <td>Male</td>\n",
              "      <td>Single</td>\n",
              "      <td>Student</td>\n",
              "      <td>No Income</td>\n",
              "      <td>2</td>\n",
              "      <td>Positive</td>\n",
              "    </tr>\n",
              "    <tr>\n",
              "      <th>499</th>\n",
              "      <td>25</td>\n",
              "      <td>Female</td>\n",
              "      <td>Married</td>\n",
              "      <td>Self Employeed</td>\n",
              "      <td>25001 to 50000</td>\n",
              "      <td>4</td>\n",
              "      <td>Positive</td>\n",
              "    </tr>\n",
              "  </tbody>\n",
              "</table>\n",
              "</div>"
            ],
            "text/plain": [
              "     Age  Gender Marital Status      Occupation    Monthly Income  \\\n",
              "491   19    Male         Single         Student         No Income   \n",
              "492   19  Female         Single         Student         No Income   \n",
              "493   18    Male         Single         Student         No Income   \n",
              "494   20    Male         Single         Student     Below Rs.5000   \n",
              "495   27  Female        Married        Employee     Below Rs.5000   \n",
              "496   22  Female         Single  Self Employeed  More than 100000   \n",
              "497   23    Male        Married        Employee   More than 50000   \n",
              "498   21    Male         Single         Student         No Income   \n",
              "499   25  Female        Married  Self Employeed    25001 to 50000   \n",
              "\n",
              "     Family size   Feedback  \n",
              "491            4   Positive  \n",
              "492            2   Positive  \n",
              "493            3   Positive  \n",
              "494            4   Positive  \n",
              "495            3  Negative   \n",
              "496            2  Negative   \n",
              "497            1   Positive  \n",
              "498            2   Positive  \n",
              "499            4   Positive  "
            ]
          },
          "execution_count": 5,
          "metadata": {},
          "output_type": "execute_result"
        }
      ],
      "source": [
        "data.tail(9)"
      ]
    },
    {
      "cell_type": "code",
      "execution_count": null,
      "id": "78256bf4",
      "metadata": {
        "id": "78256bf4",
        "outputId": "6c0475bb-f715-4e2a-a08c-21fc50602038"
      },
      "outputs": [
        {
          "name": "stdout",
          "output_type": "stream",
          "text": [
            "<class 'pandas.core.frame.DataFrame'>\n",
            "RangeIndex: 500 entries, 0 to 499\n",
            "Data columns (total 7 columns):\n",
            " #   Column          Non-Null Count  Dtype \n",
            "---  ------          --------------  ----- \n",
            " 0   Age             500 non-null    int64 \n",
            " 1   Gender          500 non-null    object\n",
            " 2   Marital Status  500 non-null    object\n",
            " 3   Occupation      500 non-null    object\n",
            " 4   Monthly Income  500 non-null    object\n",
            " 5   Family size     500 non-null    int64 \n",
            " 6   Feedback        500 non-null    object\n",
            "dtypes: int64(2), object(5)\n",
            "memory usage: 27.5+ KB\n"
          ]
        }
      ],
      "source": [
        "data.info()         #give us some info like number of rows and columns how many integer we have"
      ]
    },
    {
      "cell_type": "code",
      "execution_count": null,
      "id": "08b9c3dc",
      "metadata": {
        "id": "08b9c3dc",
        "outputId": "a5811a53-d137-4dcd-dde9-0af7919876fc"
      },
      "outputs": [
        {
          "data": {
            "text/plain": [
              "Index(['Age', 'Gender', 'Marital Status', 'Occupation', 'Monthly Income',\n",
              "       'Family size', 'Feedback'],\n",
              "      dtype='object')"
            ]
          },
          "execution_count": 7,
          "metadata": {},
          "output_type": "execute_result"
        }
      ],
      "source": [
        "data.columns"
      ]
    },
    {
      "cell_type": "code",
      "execution_count": null,
      "id": "d093d53e",
      "metadata": {
        "id": "d093d53e",
        "outputId": "1dffc6a3-6611-4ac1-eeab-c625834f2b1e"
      },
      "outputs": [
        {
          "data": {
            "text/html": [
              "<div>\n",
              "<style scoped>\n",
              "    .dataframe tbody tr th:only-of-type {\n",
              "        vertical-align: middle;\n",
              "    }\n",
              "\n",
              "    .dataframe tbody tr th {\n",
              "        vertical-align: top;\n",
              "    }\n",
              "\n",
              "    .dataframe thead th {\n",
              "        text-align: right;\n",
              "    }\n",
              "</style>\n",
              "<table border=\"1\" class=\"dataframe\">\n",
              "  <thead>\n",
              "    <tr style=\"text-align: right;\">\n",
              "      <th></th>\n",
              "      <th>Age</th>\n",
              "      <th>Family size</th>\n",
              "    </tr>\n",
              "  </thead>\n",
              "  <tbody>\n",
              "    <tr>\n",
              "      <th>count</th>\n",
              "      <td>500.000000</td>\n",
              "      <td>500.000000</td>\n",
              "    </tr>\n",
              "    <tr>\n",
              "      <th>mean</th>\n",
              "      <td>24.722000</td>\n",
              "      <td>3.148000</td>\n",
              "    </tr>\n",
              "    <tr>\n",
              "      <th>std</th>\n",
              "      <td>3.418199</td>\n",
              "      <td>1.348233</td>\n",
              "    </tr>\n",
              "    <tr>\n",
              "      <th>min</th>\n",
              "      <td>18.000000</td>\n",
              "      <td>1.000000</td>\n",
              "    </tr>\n",
              "    <tr>\n",
              "      <th>25%</th>\n",
              "      <td>22.000000</td>\n",
              "      <td>2.000000</td>\n",
              "    </tr>\n",
              "    <tr>\n",
              "      <th>50%</th>\n",
              "      <td>24.000000</td>\n",
              "      <td>3.000000</td>\n",
              "    </tr>\n",
              "    <tr>\n",
              "      <th>75%</th>\n",
              "      <td>27.000000</td>\n",
              "      <td>4.000000</td>\n",
              "    </tr>\n",
              "    <tr>\n",
              "      <th>max</th>\n",
              "      <td>36.000000</td>\n",
              "      <td>6.000000</td>\n",
              "    </tr>\n",
              "  </tbody>\n",
              "</table>\n",
              "</div>"
            ],
            "text/plain": [
              "              Age  Family size\n",
              "count  500.000000   500.000000\n",
              "mean    24.722000     3.148000\n",
              "std      3.418199     1.348233\n",
              "min     18.000000     1.000000\n",
              "25%     22.000000     2.000000\n",
              "50%     24.000000     3.000000\n",
              "75%     27.000000     4.000000\n",
              "max     36.000000     6.000000"
            ]
          },
          "execution_count": 8,
          "metadata": {},
          "output_type": "execute_result"
        }
      ],
      "source": [
        "data.describe()                #describe the dataset  genrally"
      ]
    },
    {
      "cell_type": "code",
      "execution_count": null,
      "id": "c807def3",
      "metadata": {
        "id": "c807def3",
        "outputId": "5f37fa19-84d6-405b-da12-fb42c286c698"
      },
      "outputs": [
        {
          "data": {
            "text/plain": [
              "24.722"
            ]
          },
          "execution_count": 9,
          "metadata": {},
          "output_type": "execute_result"
        }
      ],
      "source": [
        "data['Age'].mean()                      #avarage of age that order"
      ]
    },
    {
      "cell_type": "code",
      "execution_count": null,
      "id": "2cd6ecca",
      "metadata": {
        "id": "2cd6ecca",
        "outputId": "d3c25cff-2c81-46bf-c214-ee052b6510a2"
      },
      "outputs": [
        {
          "data": {
            "text/plain": [
              "0    23\n",
              "Name: Age, dtype: int64"
            ]
          },
          "execution_count": 10,
          "metadata": {},
          "output_type": "execute_result"
        }
      ],
      "source": [
        "data['Age'].mode()                     #most repeated age to order"
      ]
    },
    {
      "cell_type": "code",
      "execution_count": null,
      "id": "bb230157",
      "metadata": {
        "id": "bb230157"
      },
      "outputs": [],
      "source": [
        "import scipy.stats as st\n"
      ]
    },
    {
      "cell_type": "code",
      "execution_count": null,
      "id": "5f24014d",
      "metadata": {
        "id": "5f24014d",
        "outputId": "c6a2c65b-efe2-48ce-8d60-ed67a6b28d62"
      },
      "outputs": [
        {
          "data": {
            "image/png": "[encoded data removed]",
            "text/plain": [
              "<Figure size 3000x1000 with 2 Axes>"
            ]
          },
          "metadata": {},
          "output_type": "display_data"
        }
      ],
      "source": [
        "import matplotlib.pyplot as plt      #to sketch histogram ,we have to integer dataset\n",
        "%matplotlib inline\n",
        "\n",
        "data.hist(figsize=(30,10))\n",
        "plt.show()"
      ]
    },
    {
      "cell_type": "code",
      "execution_count": null,
      "id": "c0d566b7",
      "metadata": {
        "id": "c0d566b7",
        "outputId": "08d1530b-44e8-4dbf-ac2c-a061034e9d51"
      },
      "outputs": [
        {
          "data": {
            "text/plain": [
              "array([[<AxesSubplot:title={'center':'Employee'}>,\n",
              "        <AxesSubplot:title={'center':'House wife'}>],\n",
              "       [<AxesSubplot:title={'center':'Self Employeed'}>,\n",
              "        <AxesSubplot:title={'center':'Student'}>]], dtype=object)"
            ]
          },
          "execution_count": 13,
          "metadata": {},
          "output_type": "execute_result"
        },
        {
          "data": {
            "image/png": "[encoded data removed]",
            "text/plain": [
              "<Figure size 640x480 with 2 Axes>"
            ]
          },
          "metadata": {},
          "output_type": "display_data"
        },
        {
          "data": {
            "image/png": "[encoded data removed]",
            "text/plain": [
              "<Figure size 3000x3000 with 4 Axes>"
            ]
          },
          "metadata": {},
          "output_type": "display_data"
        }
      ],
      "source": [
        "data.hist(by='Gender',column ='Age')\n",
        "data.hist(by='Occupation',column ='Monthly Income',figsize=(30,30))\n"
      ]
    },
    {
      "cell_type": "code",
      "execution_count": null,
      "id": "42032f3f",
      "metadata": {
        "id": "42032f3f",
        "outputId": "8d86900e-b504-4acc-e56f-f641852270fc"
      },
      "outputs": [
        {
          "ename": "NameError",
          "evalue": "name 'sns' is not defined",
          "output_type": "error",
          "traceback": [
            "\u001b[1;31m---------------------------------------------------------------------------\u001b[0m",
            "\u001b[1;31mNameError\u001b[0m                                 Traceback (most recent call last)",
            "\u001b[1;32m~\\AppData\\Local\\Temp\\ipykernel_21132\\772379560.py\u001b[0m in \u001b[0;36m<module>\u001b[1;34m\u001b[0m\n\u001b[1;32m----> 1\u001b[1;33m \u001b[0msns\u001b[0m\u001b[1;33m.\u001b[0m\u001b[0mpairplot\u001b[0m\u001b[1;33m(\u001b[0m\u001b[0mdata\u001b[0m\u001b[1;33m)\u001b[0m    \u001b[1;31m#describe the relatioship between to different variable we have 2 integer we see that they have connection\u001b[0m\u001b[1;33m\u001b[0m\u001b[1;33m\u001b[0m\u001b[0m\n\u001b[0m\u001b[0;32m      2\u001b[0m                        \u001b[1;31m#between eachother\u001b[0m\u001b[1;33m\u001b[0m\u001b[1;33m\u001b[0m\u001b[0m\n",
            "\u001b[1;31mNameError\u001b[0m: name 'sns' is not defined"
          ]
        }
      ],
      "source": [
        "sns.pairplot(data)    #describe the relatioship between to different variable we have 2 integer we see that they have connection\n",
        "                       #between eachother"
      ]
    },
    {
      "cell_type": "code",
      "execution_count": null,
      "id": "4a7eab5e",
      "metadata": {
        "id": "4a7eab5e"
      },
      "outputs": [],
      "source": [
        "corr=data.corr()\n",
        "sns.heatmap(corr,annot=True)"
      ]
    },
    {
      "cell_type": "code",
      "execution_count": null,
      "id": "dbc2ff55",
      "metadata": {
        "id": "dbc2ff55"
      },
      "outputs": [],
      "source": [
        "import seaborn as sns\n",
        "\n",
        "sns.boxplot(x=\"Gender\", y=\"Age\", data=data)\n",
        "# sns.boxplot(x=\"Gender\", orient= \"h\", data=mydata)"
      ]
    },
    {
      "cell_type": "code",
      "execution_count": null,
      "id": "f74f0562",
      "metadata": {
        "id": "f74f0562"
      },
      "outputs": [],
      "source": [
        "pd.crosstab(data['Monthly Income'],data['Gender'] )"
      ]
    },
    {
      "cell_type": "code",
      "execution_count": null,
      "id": "5edf88a5",
      "metadata": {
        "id": "5edf88a5"
      },
      "outputs": [],
      "source": [
        "pd.crosstab(data['Occupation'],data['Gender'] )"
      ]
    },
    {
      "cell_type": "code",
      "execution_count": null,
      "id": "ec598c25",
      "metadata": {
        "id": "ec598c25"
      },
      "outputs": [],
      "source": [
        "pd.pivot_table(data, index=['Occupation', 'Gender'],\n",
        "                     columns=[ 'Marital Status'], aggfunc=len)"
      ]
    },
    {
      "cell_type": "code",
      "execution_count": null,
      "id": "17f3a109",
      "metadata": {
        "id": "17f3a109"
      },
      "outputs": [],
      "source": [
        "sns.countplot(x=\"Occupation\", hue=\"Monthly Income\", data=data)"
      ]
    },
    {
      "cell_type": "code",
      "execution_count": null,
      "id": "7117628f",
      "metadata": {
        "id": "7117628f"
      },
      "outputs": [],
      "source": [
        "platform_counts=data['Occupation'].value_counts()\n",
        "plt.pie(platform_counts.values,labels=platform_counts.index,autopct='%1.1f%%')\n",
        "plt.title('who order the most')"
      ]
    },
    {
      "cell_type": "code",
      "execution_count": null,
      "id": "1c445222",
      "metadata": {
        "id": "1c445222"
      },
      "outputs": [],
      "source": [
        "platform_counts=data['Monthly Income'].value_counts()\n",
        "plt.pie(platform_counts.values,labels=platform_counts.index,autopct='%1.1f%%')\n",
        "plt.title('who order the most')       #young generation order most even they have no income"
      ]
    },
    {
      "cell_type": "code",
      "execution_count": null,
      "id": "66f644e8",
      "metadata": {
        "id": "66f644e8"
      },
      "outputs": [],
      "source": [
        "platform_counts=data['Feedback'].value_counts()\n",
        "plt.pie(platform_counts.values,labels=platform_counts.index,autopct='%1.1f%%')\n",
        "plt.title('The Feedback')"
      ]
    },
    {
      "cell_type": "code",
      "execution_count": null,
      "id": "c13b9b88",
      "metadata": {
        "id": "c13b9b88"
      },
      "outputs": [],
      "source": [
        "sns.distplot(data['Family size'])      # we should put integer"
      ]
    },
    {
      "cell_type": "code",
      "execution_count": null,
      "id": "43c59914",
      "metadata": {
        "id": "43c59914"
      },
      "outputs": [],
      "source": [
        "data['Age'].std()"
      ]
    },
    {
      "cell_type": "code",
      "execution_count": null,
      "id": "59187bf3",
      "metadata": {
        "id": "59187bf3"
      },
      "outputs": [],
      "source": [
        "data['Age'].mean()"
      ]
    },
    {
      "cell_type": "code",
      "execution_count": null,
      "id": "b7e4f2d7",
      "metadata": {
        "id": "b7e4f2d7"
      },
      "outputs": [],
      "source": [
        "data['Age'].median()"
      ]
    },
    {
      "cell_type": "markdown",
      "id": "4e04437c",
      "metadata": {
        "id": "4e04437c"
      },
      "source": [
        "## Segment 1: Frequentist Statistics"
      ]
    },
    {
      "cell_type": "markdown",
      "id": "ee5cbc37",
      "metadata": {
        "id": "ee5cbc37"
      },
      "source": [
        "### Measures of Central Tendency"
      ]
    },
    {
      "cell_type": "markdown",
      "id": "ea8d8e51",
      "metadata": {
        "id": "ea8d8e51"
      },
      "source": [
        "Measures of central tendency provide a summary statistic on the center of a given distribution, a.k.a., the \"average\" value of the distribution."
      ]
    },
    {
      "cell_type": "code",
      "execution_count": null,
      "id": "162ca243",
      "metadata": {
        "id": "162ca243"
      },
      "outputs": [],
      "source": [
        "import scipy.stats as st\n",
        "import matplotlib.pyplot as plt\n",
        "import seaborn as sns"
      ]
    },
    {
      "cell_type": "code",
      "execution_count": null,
      "id": "83b2f863",
      "metadata": {
        "id": "83b2f863"
      },
      "outputs": [],
      "source": [
        "# seed to generate same random forall\n",
        "np.random.seed(42)"
      ]
    },
    {
      "cell_type": "code",
      "execution_count": null,
      "id": "4d2b30c2",
      "metadata": {
        "id": "4d2b30c2"
      },
      "outputs": [],
      "source": [
        "x = st.skewnorm.rvs(1, size=1000)        #we gave the size to show some values like array\n",
        "# arg1 default is 1 (normal) above that generate right skweed\n",
        "# and below it will generate left skweed\n",
        "# the amount of skeeness depend on the number ratio to size"
      ]
    },
    {
      "cell_type": "code",
      "execution_count": null,
      "id": "8472812f",
      "metadata": {
        "id": "8472812f"
      },
      "outputs": [],
      "source": [
        "# Print the first few values to check\n",
        "x[3:10]"
      ]
    },
    {
      "cell_type": "code",
      "execution_count": null,
      "id": "f827bf1f",
      "metadata": {
        "id": "f827bf1f"
      },
      "outputs": [],
      "source": [
        "fig, ax = plt.subplots()\n",
        "_ = plt.hist(x, color = 'orange')"
      ]
    },
    {
      "cell_type": "markdown",
      "id": "cb6c8134",
      "metadata": {
        "id": "cb6c8134"
      },
      "source": [
        "#### Mean"
      ]
    },
    {
      "cell_type": "markdown",
      "id": "4b52121b",
      "metadata": {
        "id": "4b52121b"
      },
      "source": [
        "The most common measure of central tendency, synonomous with the term \"average\", is the **mean**, often symbolized with $\\mu$ (population) or $\\bar{x}$ (sample):"
      ]
    },
    {
      "cell_type": "markdown",
      "id": "09006194",
      "metadata": {
        "id": "09006194"
      },
      "source": [
        "$$ \\bar{x} = \\frac{\\sum_{i=1}^n x_i}{n} $$"
      ]
    },
    {
      "cell_type": "code",
      "execution_count": null,
      "id": "54536348",
      "metadata": {
        "id": "54536348"
      },
      "outputs": [],
      "source": [
        "xbar = x.mean()\n",
        "xbar"
      ]
    },
    {
      "cell_type": "code",
      "execution_count": null,
      "id": "b2067680",
      "metadata": {
        "id": "b2067680"
      },
      "outputs": [],
      "source": [
        "fig, ax = plt.subplots()\n",
        "plt.axvline(x = x.mean(), color='red')    #mean is red vertical line\n",
        "_ = plt.hist(x, color = 'orange')"
      ]
    },
    {
      "cell_type": "markdown",
      "id": "21050b5c",
      "metadata": {
        "id": "21050b5c"
      },
      "source": [
        "#### Median\n",
        "The second most common measure of central tendency is the **median**, the midpoint value in the distribution:"
      ]
    },
    {
      "cell_type": "code",
      "execution_count": null,
      "id": "5400153a",
      "metadata": {
        "id": "5400153a"
      },
      "outputs": [],
      "source": [
        "np.median(x)"
      ]
    },
    {
      "cell_type": "code",
      "execution_count": null,
      "id": "be498497",
      "metadata": {
        "id": "be498497"
      },
      "outputs": [],
      "source": [
        "fig, ax = plt.subplots()\n",
        "plt.axvline(x = np.mean(x), color='red')\n",
        "plt.axvline(x = np.median(x), color='green')\n",
        "_ = plt.hist(x, color = 'orange')"
      ]
    },
    {
      "cell_type": "markdown",
      "id": "48c9d45e",
      "metadata": {
        "id": "48c9d45e"
      },
      "source": [
        "The **mode** is least impacted by skew, but is typically only applicable to discrete distributions. For continuous distributions with skew (e.g., salary data), median is typically the choice measure of central tendency:"
      ]
    },
    {
      "cell_type": "markdown",
      "id": "a8fe0021",
      "metadata": {
        "id": "a8fe0021"
      },
      "source": [
        "### Measures of Dispersion"
      ]
    },
    {
      "cell_type": "markdown",
      "id": "31f70707",
      "metadata": {
        "id": "31f70707"
      },
      "source": [
        "#### Variance\n",
        "$$ \\sigma^2 = \\frac{\\sum_{i=1}^n (x_i-\\bar{x})^2}{n} $$"
      ]
    },
    {
      "cell_type": "code",
      "execution_count": null,
      "id": "e90977ea",
      "metadata": {
        "id": "e90977ea"
      },
      "outputs": [],
      "source": [
        "x.var()"
      ]
    },
    {
      "cell_type": "markdown",
      "id": "c518f6af",
      "metadata": {
        "id": "c518f6af"
      },
      "source": [
        "#### Standard Deviation\n",
        "A straightforward derivative of variance is **standard deviation** (denoted with $\\sigma$), which is convenient because its units are on the same scale as the values in the distribution:\n",
        "$$ \\sigma = \\sqrt{\\sigma^2} $$"
      ]
    },
    {
      "cell_type": "markdown",
      "id": "dfebc4b1",
      "metadata": {
        "id": "dfebc4b1"
      },
      "source": [
        "### Standard Deviation"
      ]
    },
    {
      "cell_type": "code",
      "execution_count": null,
      "id": "3138ff87",
      "metadata": {
        "id": "3138ff87"
      },
      "outputs": [],
      "source": [
        "x.var()**(1/2)"
      ]
    },
    {
      "cell_type": "markdown",
      "id": "d06d5ffc",
      "metadata": {
        "id": "d06d5ffc"
      },
      "source": [
        "### Standard Error\n",
        "A further derivation of standard deviation is **standard error**, which is denoted with $\\sigma_\\bar{x}$:\n",
        "$$ \\sigma_\\bar{x} = \\frac{\\sigma}{\\sqrt{n}} $$\n",
        "\n",
        "Standard error enables us to compare whether the means of two distributions differ *significantly*, a focus of *Intro to Stats*."
      ]
    },
    {
      "cell_type": "code",
      "execution_count": null,
      "id": "cda49d23",
      "metadata": {
        "id": "cda49d23"
      },
      "outputs": [],
      "source": [
        "sigma = x.std()\n",
        "sigma                  #rezhay aw erroray ka ema hamana la data setakaman\n"
      ]
    },
    {
      "cell_type": "code",
      "execution_count": null,
      "id": "d4587b64",
      "metadata": {
        "id": "d4587b64"
      },
      "outputs": [],
      "source": [
        "sigma/(x.size)**(1/2)"
      ]
    },
    {
      "cell_type": "code",
      "execution_count": null,
      "id": "483707db",
      "metadata": {
        "id": "483707db"
      },
      "outputs": [],
      "source": [
        "fig, ax = plt.subplots()\n",
        "plt.axvline(x = xbar, color='orange')\n",
        "plt.axvline(x = xbar+sigma, color='olivedrab')\n",
        "plt.axvline(x = xbar+sigma-2, color='olivedrab')\n",
        "plt.axvline(x = xbar+sigma+1, color='red')\n",
        "plt.axvline(x = xbar-sigma-1.5, color='red')\n",
        "_ = plt.hist(x, color = 'yellow')"
      ]
    },
    {
      "cell_type": "code",
      "execution_count": null,
      "id": "da8c34d4",
      "metadata": {
        "id": "da8c34d4"
      },
      "outputs": [],
      "source": [
        "st.sem(x) # defaults to 1 degree of freedom, which can be ignored with the larger data sets of ML"
      ]
    },
    {
      "cell_type": "code",
      "execution_count": null,
      "id": "23b93c74",
      "metadata": {
        "id": "23b93c74"
      },
      "outputs": [],
      "source": [
        "st.sem(x, ddof=0)"
      ]
    },
    {
      "cell_type": "markdown",
      "id": "01f11902",
      "metadata": {
        "id": "01f11902"
      },
      "source": [
        "### Gaussian Distribution\n",
        "After Carl Friedrich Gauss. Also known as **normal distribution**:"
      ]
    },
    {
      "cell_type": "code",
      "execution_count": null,
      "id": "b30b7229",
      "metadata": {
        "id": "b30b7229"
      },
      "outputs": [],
      "source": [
        "x = np.random.normal(size=3000)  #we gave size randomly"
      ]
    },
    {
      "cell_type": "code",
      "execution_count": null,
      "id": "acaaae95",
      "metadata": {
        "id": "acaaae95"
      },
      "outputs": [],
      "source": [
        "sns.set_style('ticks')    #tickes is the name of the style"
      ]
    },
    {
      "cell_type": "code",
      "execution_count": null,
      "id": "47947b31",
      "metadata": {
        "id": "47947b31"
      },
      "outputs": [],
      "source": [
        "_ = sns.displot(x, kde=True)   #overrided for showing us  #we can write False and see what Happen"
      ]
    },
    {
      "cell_type": "markdown",
      "id": "e023db1d",
      "metadata": {
        "id": "e023db1d"
      },
      "source": [
        "When the normal distribution has a mean ($\\mu$) of zero and standard deviation ($\\sigma$) of one, as it does by default with the NumPy `normal()` method..."
      ]
    },
    {
      "cell_type": "code",
      "execution_count": null,
      "id": "9efcb507",
      "metadata": {
        "id": "9efcb507"
      },
      "outputs": [],
      "source": [
        "x.mean()"
      ]
    },
    {
      "cell_type": "code",
      "execution_count": null,
      "id": "24770ed9",
      "metadata": {
        "id": "24770ed9"
      },
      "outputs": [],
      "source": [
        "x.std()"
      ]
    },
    {
      "cell_type": "markdown",
      "id": "47545600",
      "metadata": {
        "id": "47545600"
      },
      "source": [
        "...it is a **standard normal distribution** (a.k.a., standard Gaussian distribution or ***z*-distribution**), which can be denoted as $\\mathcal{N}(\\mu, \\sigma^2) = \\mathcal{N}(0, 1)$ (noting that $\\sigma^2 = \\sigma$ here because $1^2 = 1$).\n",
        "\n",
        "Normal distributions are by far the most common distribution in statistics and machine learning. They are typically the default option, particularly if you have limited information about the random process you're modeling, because:\n",
        "\n",
        "1. Normal distributions assume the greatest possible uncertainty about the random variable they represent (relative to any other distribution of equivalent variance). Details of this are beyond the scope of this tutorial.\n",
        "2. Simple and very complex random processes alike are, under all common conditions, normally distributed when we sample values from the process. Since we sample data for statistical and machine learning models alike, this so-called **central limit theorem** (covered next) is a critically important concept."
      ]
    },
    {
      "cell_type": "markdown",
      "id": "4ef22bea",
      "metadata": {
        "id": "4ef22bea"
      },
      "source": [
        "### The Central Limit Theorem\n",
        "To develop a functional understanding of the CLT, let's sample some values from our normal distribution:"
      ]
    },
    {
      "cell_type": "code",
      "execution_count": null,
      "id": "a69a4975",
      "metadata": {
        "id": "a69a4975"
      },
      "outputs": [],
      "source": [
        "x_sample = np.random.choice(x, size=10, replace=False)\n",
        "x_sample    #give a size for random sample"
      ]
    },
    {
      "cell_type": "markdown",
      "id": "beb3804b",
      "metadata": {
        "id": "beb3804b"
      },
      "source": [
        "The mean of a sample isn't always going to be close to zero with such a small sample:"
      ]
    },
    {
      "cell_type": "code",
      "execution_count": null,
      "id": "4f2fd84c",
      "metadata": {
        "id": "4f2fd84c"
      },
      "outputs": [],
      "source": [
        "x_sample.mean()      #the mean of our sample"
      ]
    },
    {
      "cell_type": "code",
      "execution_count": null,
      "id": "ac6c5d2d",
      "metadata": {
        "id": "ac6c5d2d"
      },
      "outputs": [],
      "source": [
        "##############################################################################################"
      ]
    },
    {
      "cell_type": "code",
      "execution_count": null,
      "id": "1b208e3d",
      "metadata": {
        "id": "1b208e3d"
      },
      "outputs": [],
      "source": [
        "##############################################################################################"
      ]
    },
    {
      "cell_type": "markdown",
      "id": "07f34e37",
      "metadata": {
        "id": "07f34e37"
      },
      "source": [
        "Let's define a function for generating **sampling distributions** of the mean of a given input distribution:"
      ]
    },
    {
      "cell_type": "code",
      "execution_count": null,
      "id": "6c78e3e4",
      "metadata": {
        "id": "6c78e3e4"
      },
      "outputs": [],
      "source": [
        "def sample_mean_calculator(input_dist, sample_size, n_samples):\n",
        "    sample_means = []\n",
        "    for i in range(n_samples):\n",
        "        sample = np.random.choice(input_dist, size=sample_size, replace=False)\n",
        "        sample_means.append(sample.mean())\n",
        "    return sample_means"
      ]
    },
    {
      "cell_type": "code",
      "execution_count": null,
      "id": "0638a1d6",
      "metadata": {
        "id": "0638a1d6"
      },
      "outputs": [],
      "source": [
        "sns.displot(sample_mean_calculator(x, 10, 10), color='green', kde=True)\n",
        "_ = plt.xlim(-1.5, 1.5)"
      ]
    },
    {
      "cell_type": "markdown",
      "id": "267e4873",
      "metadata": {
        "id": "267e4873"
      },
      "source": [
        "The more samples we take, the more likely that the sampling distribution of the means will be normally distributed:"
      ]
    },
    {
      "cell_type": "code",
      "execution_count": null,
      "id": "ca598d46",
      "metadata": {
        "id": "ca598d46"
      },
      "outputs": [],
      "source": [
        "sns.displot(sample_mean_calculator(x, 10, 1000), color='green', kde=True)\n",
        "_ = plt.xlim(-1.5, 1.5)"
      ]
    },
    {
      "cell_type": "markdown",
      "id": "57800ff5",
      "metadata": {
        "id": "57800ff5"
      },
      "source": [
        "The larger the sample, the tighter the sample means will tend to be around the population mean:"
      ]
    },
    {
      "cell_type": "code",
      "execution_count": null,
      "id": "d13af844",
      "metadata": {
        "id": "d13af844"
      },
      "outputs": [],
      "source": [
        "sns.displot(sample_mean_calculator(x, 100, 1000), color='green', kde=True)\n",
        "_ = plt.xlim(-1.5, 1.5)"
      ]
    },
    {
      "cell_type": "code",
      "execution_count": null,
      "id": "95c3c270",
      "metadata": {
        "id": "95c3c270"
      },
      "outputs": [],
      "source": [
        "sns.displot(sample_mean_calculator(x, 1000, 1000), color='green', kde=True)\n",
        "_ = plt.xlim(-1.5, 1.5)"
      ]
    },
    {
      "cell_type": "markdown",
      "id": "4cf7c173",
      "metadata": {
        "id": "4cf7c173"
      },
      "source": [
        "#### Sampling from a multimodal distribution"
      ]
    },
    {
      "cell_type": "code",
      "execution_count": null,
      "id": "f6a41424",
      "metadata": {
        "id": "f6a41424"
      },
      "outputs": [],
      "source": [
        "m = np.concatenate((np.random.normal(size=5000), np.random.normal(loc = 4.0, size=5000)))"
      ]
    },
    {
      "cell_type": "code",
      "execution_count": null,
      "id": "2cebfd19",
      "metadata": {
        "id": "2cebfd19"
      },
      "outputs": [],
      "source": [
        "_ = sns.displot(m, kde=True)"
      ]
    },
    {
      "cell_type": "code",
      "execution_count": null,
      "id": "3523e3dc",
      "metadata": {
        "id": "3523e3dc"
      },
      "outputs": [],
      "source": [
        "_ = sns.displot(sample_mean_calculator(m, 1000, 1000), color='green', kde=True)"
      ]
    },
    {
      "cell_type": "markdown",
      "id": "744ac534",
      "metadata": {
        "id": "744ac534"
      },
      "source": [
        "#### Sampling from uniform\n",
        "Even sampling from the highly non-normal uniform distribution, the sampling distribution comes out normal:"
      ]
    },
    {
      "cell_type": "code",
      "execution_count": null,
      "id": "25e0ed77",
      "metadata": {
        "id": "25e0ed77"
      },
      "outputs": [],
      "source": [
        "u = np.random.uniform(size=200)"
      ]
    },
    {
      "cell_type": "code",
      "execution_count": null,
      "id": "ebbff8f6",
      "metadata": {
        "id": "ebbff8f6"
      },
      "outputs": [],
      "source": [
        "_ = sns.displot(u)"
      ]
    },
    {
      "cell_type": "markdown",
      "id": "41f9b1ec",
      "metadata": {
        "id": "41f9b1ec"
      },
      "source": [
        "### z-scores\n",
        "Assuming normally-distributed data, a z-score indicates how many standard deviations away from the mean a data point (say, $x_i$) is:\n",
        "$$ z = \\frac{x_i-\\mu}{\\sigma} $$\n",
        "That is, the formula *standardizes* a given score $x_i$ to the (standard normal) *z*-distribution. (As we covered in *Probability & Information Theory*, you could standardize any normal distribution to a mean of zero and standard deviation of one by subtracting its original mean and then dividing by its original standard deviation.)\n",
        "\n",
        "\n"
      ]
    },
    {
      "cell_type": "code",
      "execution_count": null,
      "id": "a617ce5b",
      "metadata": {
        "id": "a617ce5b"
      },
      "outputs": [],
      "source": [
        "x_i = 85\n",
        "mu = 60\n",
        "sigma = 10"
      ]
    },
    {
      "cell_type": "code",
      "execution_count": null,
      "id": "9315e851",
      "metadata": {
        "id": "9315e851"
      },
      "outputs": [],
      "source": [
        "x = np.random.normal(mu, sigma, 10000)"
      ]
    },
    {
      "cell_type": "code",
      "execution_count": null,
      "id": "6f564b0b",
      "metadata": {
        "id": "6f564b0b"
      },
      "outputs": [],
      "source": [
        "sns.displot(x, color='gray')\n",
        "ax.set_xlim(0, 100)\n",
        "plt.axvline(mu, color='orange')\n",
        "for v in [-3, -2, -1, 1, 2, 3]:\n",
        "    plt.axvline(mu+v*sigma, color='olivedrab')\n",
        "_ = plt.axvline(x_i, color='purple')"
      ]
    },
    {
      "cell_type": "markdown",
      "id": "5a60db2d",
      "metadata": {
        "id": "5a60db2d"
      },
      "source": [
        "Your z-score is 2.5 standard deviations above the mean:"
      ]
    },
    {
      "cell_type": "code",
      "execution_count": null,
      "id": "04a381c9",
      "metadata": {
        "id": "04a381c9"
      },
      "outputs": [],
      "source": [
        "z = (x_i - mu)/sigma\n",
        "z"
      ]
    },
    {
      "cell_type": "code",
      "execution_count": null,
      "id": "03ccac23",
      "metadata": {
        "id": "03ccac23"
      },
      "outputs": [],
      "source": [
        "z = (x_i - np.mean(x))/np.std(x)\n",
        "z"
      ]
    },
    {
      "cell_type": "code",
      "execution_count": null,
      "id": "1f6a420b",
      "metadata": {
        "id": "1f6a420b"
      },
      "outputs": [],
      "source": [
        "len(np.where(x > 85)[0])"
      ]
    },
    {
      "cell_type": "code",
      "execution_count": null,
      "id": "d997598c",
      "metadata": {
        "id": "d997598c"
      },
      "outputs": [],
      "source": [
        "100*70/10000"
      ]
    },
    {
      "cell_type": "code",
      "execution_count": null,
      "id": "df3886f4",
      "metadata": {
        "id": "df3886f4"
      },
      "outputs": [],
      "source": [
        "np.percentile(x, 99)"
      ]
    },
    {
      "cell_type": "code",
      "execution_count": null,
      "id": "2f648730",
      "metadata": {
        "id": "2f648730"
      },
      "outputs": [],
      "source": [
        "mu = 90\n",
        "sigma = 2"
      ]
    },
    {
      "cell_type": "code",
      "execution_count": null,
      "id": "e7612fe6",
      "metadata": {
        "id": "e7612fe6"
      },
      "outputs": [],
      "source": [
        "y = np.random.normal(mu, sigma, 10000)"
      ]
    },
    {
      "cell_type": "code",
      "execution_count": null,
      "id": "cfcfb63c",
      "metadata": {
        "id": "cfcfb63c"
      },
      "outputs": [],
      "source": [
        "sns.displot(y, color='gray')\n",
        "plt.axvline(mu, color='orange')\n",
        "for v in [-3, -2, -1, 1, 2, 3]:\n",
        "    plt.axvline(mu+v*sigma, color='olivedrab')\n",
        "_ = plt.axvline(x_i, color='purple')"
      ]
    },
    {
      "cell_type": "code",
      "execution_count": null,
      "id": "5e1ecdee",
      "metadata": {
        "id": "5e1ecdee"
      },
      "outputs": [],
      "source": [
        "z = (x_i - mu)/sigma\n",
        "z"
      ]
    },
    {
      "cell_type": "code",
      "execution_count": null,
      "id": "958a0d76",
      "metadata": {
        "id": "958a0d76"
      },
      "outputs": [],
      "source": [
        "z = (x_i - np.mean(y))/np.std(y)\n",
        "z"
      ]
    },
    {
      "cell_type": "code",
      "execution_count": null,
      "id": "ef1c3e94",
      "metadata": {
        "id": "ef1c3e94"
      },
      "outputs": [],
      "source": [
        "len(np.where(y > 85)[0])"
      ]
    },
    {
      "cell_type": "code",
      "execution_count": null,
      "id": "4bcb3c35",
      "metadata": {
        "id": "4bcb3c35"
      },
      "outputs": [],
      "source": [
        "100*9942/10000"
      ]
    },
    {
      "cell_type": "code",
      "execution_count": null,
      "id": "50ac1360",
      "metadata": {
        "id": "50ac1360"
      },
      "outputs": [],
      "source": [
        "10000-9942"
      ]
    },
    {
      "cell_type": "code",
      "execution_count": null,
      "id": "bbfa5e9a",
      "metadata": {
        "id": "bbfa5e9a"
      },
      "outputs": [],
      "source": [
        "np.percentile(y, 1)"
      ]
    },
    {
      "cell_type": "markdown",
      "id": "569f4211",
      "metadata": {
        "id": "569f4211"
      },
      "source": [
        "### *p*-values\n",
        "These quantify the *p*robability that a given observation would occur by chance alone.\n",
        "\n",
        "For example, we saw above that with our simulated 10k exam results, only 69 folks attained a *z*-score above 2.5 and only 67 (=10000-9993) attained a *z*-score below -2.5. Thus, if we were to randomly sample one of the 10k CS101 exam results, we would expect it to be outside of 2.5 (i.e., +/- 2.5) standard deviations only 1.36% of the time:\n",
        "$$ \\frac{69+67}{10000} = 0.0136 = 1.36\\% $$\n",
        "Equivalent to increasing our CS101 class size from 10k toward infinity, the probability of a score being further than 2.5 standard deviations from the mean of a normal distribution can be determined with the distribution's *cumulative distribution function* (CDF):"
      ]
    },
    {
      "cell_type": "code",
      "execution_count": null,
      "id": "4f312667",
      "metadata": {
        "id": "4f312667"
      },
      "outputs": [],
      "source": [
        "p_below = st.norm.cdf(-2.5)\n",
        "p_below"
      ]
    },
    {
      "cell_type": "code",
      "execution_count": null,
      "id": "54132b29",
      "metadata": {
        "id": "54132b29"
      },
      "outputs": [],
      "source": [
        "p_below*10000"
      ]
    },
    {
      "cell_type": "code",
      "execution_count": null,
      "id": "f913b4c7",
      "metadata": {
        "id": "f913b4c7"
      },
      "outputs": [],
      "source": [
        "sns.displot(y, color='gray')\n",
        "_ = plt.axvline(mu-2.5*sigma, color='blue')"
      ]
    },
    {
      "cell_type": "code",
      "execution_count": null,
      "id": "954dc19a",
      "metadata": {
        "id": "954dc19a",
        "outputId": "e93aa688-34eb-4d16-ebc4-880b77230d4d"
      },
      "outputs": [
        {
          "data": {
            "text/plain": [
              "0.9937903346742238"
            ]
          },
          "execution_count": 174,
          "metadata": {},
          "output_type": "execute_result"
        }
      ],
      "source": [
        "st.norm.cdf(2.5)"
      ]
    },
    {
      "cell_type": "code",
      "execution_count": null,
      "id": "47710a08",
      "metadata": {
        "id": "47710a08",
        "outputId": "eb2cfe93-2a38-406c-93d7-bb578e27d356"
      },
      "outputs": [
        {
          "data": {
            "image/png": "[encoded data removed]",
            "text/plain": [
              "<Figure size 500x500 with 1 Axes>"
            ]
          },
          "metadata": {},
          "output_type": "display_data"
        }
      ],
      "source": [
        "sns.displot(y, color='gray')\n",
        "_ = plt.axvline(mu+2.5*sigma, color='blue')"
      ]
    },
    {
      "cell_type": "code",
      "execution_count": null,
      "id": "5ea583a6",
      "metadata": {
        "id": "5ea583a6",
        "outputId": "c21544d6-0952-4c93-92b0-700fee3069e8"
      },
      "outputs": [
        {
          "data": {
            "image/png": "[encoded data removed]",
            "text/plain": [
              "<Figure size 500x500 with 1 Axes>"
            ]
          },
          "metadata": {},
          "output_type": "display_data"
        }
      ],
      "source": [
        "sns.displot(y, color='gray')\n",
        "plt.axvline(mu+2.5*sigma, color='blue')\n",
        "_ = plt.axvline(mu-2.5*sigma, color='blue')"
      ]
    },
    {
      "cell_type": "code",
      "execution_count": null,
      "id": "e8523840",
      "metadata": {
        "id": "e8523840"
      },
      "outputs": [],
      "source": []
    }
  ],
  "metadata": {
    "kernelspec": {
      "display_name": "Python 3 (ipykernel)",
      "language": "python",
      "name": "python3"
    },
    "language_info": {
      "codemirror_mode": {
        "name": "ipython",
        "version": 3
      },
      "file_extension": ".py",
      "mimetype": "text/x-python",
      "name": "python",
      "nbconvert_exporter": "python",
      "pygments_lexer": "ipython3",
      "version": "3.9.13"
    },
    "colab": {
      "provenance": [],
      "include_colab_link": true
    }
  },
  "nbformat": 4,
  "nbformat_minor": 5
}